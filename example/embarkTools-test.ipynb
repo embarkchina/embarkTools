{
 "cells": [
  {
   "cell_type": "code",
   "execution_count": null,
   "metadata": {},
   "outputs": [],
   "source": [
    "from embarkTools.io import read, save, read_csv, save_csv"
   ]
  },
  {
   "cell_type": "code",
   "execution_count": null,
   "metadata": {},
   "outputs": [],
   "source": [
    "# 实例1：读取.txt文本文件\n",
    "read(\"test.txt\")"
   ]
  },
  {
   "cell_type": "code",
   "execution_count": null,
   "metadata": {},
   "outputs": [],
   "source": [
    "# 实例2：读取.csv文本文件\n",
    "read(\"test.csv\")"
   ]
  },
  {
   "cell_type": "code",
   "execution_count": null,
   "metadata": {},
   "outputs": [],
   "source": [
    "# 实例3：读取.png图片文件\n",
    "from IPython.display import Image\n",
    "data = read(\"man.png\")\n",
    "Image(data=data)"
   ]
  },
  {
   "cell_type": "code",
   "execution_count": null,
   "metadata": {},
   "outputs": [],
   "source": [
    "# 实例4：存储.txt文本文件\n",
    "words = \"Hello World!!!\"\n",
    "save(words, \"test2.txt\")\n",
    "read(\"test2.txt\")"
   ]
  },
  {
   "cell_type": "code",
   "execution_count": null,
   "metadata": {},
   "outputs": [],
   "source": [
    "# 实例5：存储图片文件\n",
    "import requests\n",
    "from base64 import b64encode\n",
    "response = requests.get(\"https://img3.duitang.com/uploads/item/201510/06/20151006020401_iNJt4.jpeg\")\n",
    "# img为bytes 类型\n",
    "img = response.content\n",
    "\n",
    "save(img, \"han.jpeg\", format='bytes')\n",
    "data = read(\"han.jpeg\")\n",
    "Image(data=data)"
   ]
  },
  {
   "cell_type": "code",
   "execution_count": null,
   "metadata": {},
   "outputs": [],
   "source": [
    "# 实例6：`read_csv`打开csv文件，返回的是`pandas.core.frame.DataFrame`对象\n",
    "read_csv(\"test.csv\")"
   ]
  },
  {
   "cell_type": "code",
   "execution_count": null,
   "metadata": {},
   "outputs": [],
   "source": [
    "# 实例7：`save_csv`保存csv文件\n",
    "# 保存的对象可以使`str`或者`pandas.core.frame.DataFrame`，\n",
    "# 并可以使用`DataFrame`的`to_csv`方法的所有参数\n",
    "test_csv = read_csv(\"test.csv\")\n",
    "test2_csv = test_csv[[\"Country\",\"Region\"]]\n",
    "save_csv(test2_csv, \"test2.csv\")\n",
    "read_csv(\"test2.csv\")"
   ]
  },
  {
   "cell_type": "code",
   "execution_count": null,
   "metadata": {},
   "outputs": [],
   "source": []
  }
 ],
 "metadata": {
  "kernelspec": {
   "display_name": "Python 3",
   "language": "python",
   "name": "python3"
  },
  "language_info": {
   "codemirror_mode": {
    "name": "ipython",
    "version": 3
   },
   "file_extension": ".py",
   "mimetype": "text/x-python",
   "name": "python",
   "nbconvert_exporter": "python",
   "pygments_lexer": "ipython3",
   "version": "3.5.2"
  }
 },
 "nbformat": 4,
 "nbformat_minor": 2
}